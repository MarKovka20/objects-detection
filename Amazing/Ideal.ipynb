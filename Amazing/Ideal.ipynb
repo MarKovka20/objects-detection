{
 "cells": [
  {
   "cell_type": "code",
   "execution_count": 1,
   "id": "51ce16c9-f583-42bc-abe4-3446f781e744",
   "metadata": {
    "tags": []
   },
   "outputs": [],
   "source": [
    "import numpy as np\n",
    "import cv2"
   ]
  },
  {
   "cell_type": "code",
   "execution_count": 2,
   "id": "liable-privilege",
   "metadata": {},
   "outputs": [],
   "source": [
    "net = cv2.dnn.readNetFromCaffe('MobileNetSSD_deploy.prototxt.txt', 'MobileNetSSD_deploy.caffemodel')"
   ]
  },
  {
   "cell_type": "code",
   "execution_count": 5,
   "id": "expressed-candle",
   "metadata": {},
   "outputs": [],
   "source": [
    "categories = { 0: 'background', 1: 'aeroplane', 2: 'bicycle', 3: 'bird', 4: 'boat', 5: 'bottle', 6: 'bus', \n",
    "              7: 'car', 8: 'cat', 9: 'chair', 10: 'cow', 11: 'diningtable', 12: 'dog', 13: 'horse', \n",
    "              14: 'motorbike', 15: 'person', 16: 'pottedplant', 17: 'sheep', 18: 'sofa', 19: 'train', 20: 'tvmonitor'}\n",
    "# defined in list also\n",
    "classes =  [\"background\", \"aeroplane\", \"bicycle\", \"bird\", \"boat\", \"bottle\", \"bus\", \"car\", \"cat\", \"chair\", \"cow\", \n",
    "            \"diningtable\",  \"dog\", \"horse\", \"motorbike\", \"person\", \"pottedplant\", \"sheep\", \"sofa\", \"train\", \"tvmonitor\"]"
   ]
  },
  {
   "cell_type": "code",
   "execution_count": 12,
   "id": "supposed-realtor",
   "metadata": {},
   "outputs": [],
   "source": [
    "def count_to_speed(count):\n",
    "    if count < 1:\n",
    "        speed = 20\n",
    "    if count >= 1 and count < 3:\n",
    "        speed = 15\n",
    "    if count >= 3 and count < 5:\n",
    "        speed = 10\n",
    "    if count >=5:\n",
    "        speed = 5\n",
    "    return speed"
   ]
  },
  {
   "cell_type": "code",
   "execution_count": null,
   "id": "gothic-rhythm",
   "metadata": {},
   "outputs": [],
   "source": [
    "cap = cv2.VideoCapture(0)\n",
    "while cap.isOpened():\n",
    "        ret, frame = cap.read()\n",
    "        image = cv2.cvtColor(frame, cv2.COLOR_BGR2RGB)\n",
    "        (h, w) = image.shape[:2]\n",
    "        blob = cv2.dnn.blobFromImage(cv2.resize(image, (300, 300)), 0.007843, (300, 300), 127.5)\n",
    "        net.setInput(blob)\n",
    "        detections = net.forward()\n",
    "        \n",
    "        colors = np.random.uniform(255, 0, size=(len(categories), 3))\n",
    "        count = 0\n",
    "        for i in np.arange(0, detections.shape[2]):\n",
    "            confidence = detections[0, 0, i, 2]\n",
    "            if confidence > 0.2:\n",
    "                idx = int(detections[0, 0, i, 1])\n",
    "                if idx == 15:\n",
    "                    count += 1\n",
    "                    box = detections[0, 0, i, 3:7] * np.array([w, h, w, h])\n",
    "                    (startX, startY, endX, endY) = box.astype(\"int\")\n",
    "                    label = \"{}: {:.2f}%\".format(classes[idx], confidence * 100) \n",
    "                    cv2.rectangle(image, (startX, startY), (endX, endY), colors[idx], 2)     \n",
    "                    y = startY - 15 if startY - 15>15 else startY + 15     \n",
    "                    cv2.putText(image, label, (startX, y),cv2.FONT_HERSHEY_SIMPLEX, 0.5, colors[idx], 2)\n",
    "                    cv2.putText(image, \"number of people:{}\".format(count), \n",
    "                                (0, 10),cv2.FONT_HERSHEY_SIMPLEX, 0.5, colors[15], 2)\n",
    "                    speed = count_to_speed(count)\n",
    "                    cv2.putText(image, \"recomended speed:{}\".format(speed), \n",
    "                                (0, 25),cv2.FONT_HERSHEY_SIMPLEX, 0.5, colors[15], 2)\n",
    "                \n",
    "        cv2.imshow(\"Output\", image)\n",
    "\n",
    "        if cv2.waitKey(10) & 0xFF == ord('0'):\n",
    "            break\n",
    "cap.release()\n",
    "cv2.destroyAllWindows()"
   ]
  },
  {
   "cell_type": "code",
   "execution_count": null,
   "id": "competent-veteran",
   "metadata": {},
   "outputs": [],
   "source": []
  },
  {
   "cell_type": "code",
   "execution_count": null,
   "id": "designing-presence",
   "metadata": {},
   "outputs": [],
   "source": []
  }
 ],
 "metadata": {
  "kernelspec": {
   "display_name": "Python 3",
   "language": "python",
   "name": "python3"
  },
  "language_info": {
   "codemirror_mode": {
    "name": "ipython",
    "version": 3
   },
   "file_extension": ".py",
   "mimetype": "text/x-python",
   "name": "python",
   "nbconvert_exporter": "python",
   "pygments_lexer": "ipython3",
   "version": "3.8.8"
  }
 },
 "nbformat": 4,
 "nbformat_minor": 5
}
